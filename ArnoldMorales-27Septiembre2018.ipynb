{
 "cells": [
  {
   "cell_type": "markdown",
   "metadata": {},
   "source": [
    "## Método de Euler\n",
    "\n",
    "$$y_{i+1}=y_i+hf(x_i,y_i)$$\n",
    "\n",
    "$$x_{i+1}=x_i+h, i=0,1,2,...$$\n",
    "\n",
    "$$E=\\frac{h^2}{2!}y''(z)=O(h^2)$$\n",
    "\n",
    "## Euler Mejorado (Heun)\n",
    "\n",
    "$$\\bar{y}_{i+1}=y_i+hf(x_i,y_i)$$\n",
    "\n",
    "$$y_{i+1}=y_i+\\frac{h}{2}(f(x_i,y_i)+f(x_{i+1},\\bar{y}_{i+1}))$$\n",
    "\n",
    "$$x_{i+1}=x_i+h, i=0,1,2,...$$\n",
    "\n",
    "$$E=\\frac{h^2}{3!}y'''(z)=O(h^2)$$\n",
    "\n",
    "## Runge-Kutta Segundo Orden\n",
    "\n",
    "$$k_1=hf(x_i, y_i)$$\n",
    "\n",
    "$$k_2=hf(x_i+h,y_i+k_1)$$\n",
    "\n",
    "$$y_{i+1}=y_i+\\frac{1}{2}(k_1+k_2)$$\n",
    "\n",
    "$$x_{i+1}=x_i+h, i=0,1,2,...$$\n",
    "\n",
    "$$E=\\frac{h^3}{3!}y'''(z)=O(h^3)$$\n",
    "\n",
    "## Cuarto Orden\n",
    "\n",
    "$$k_1=hf(x_i,y_i)$$\n",
    "\n",
    "$$k_2=hf(x_i+\\frac{h}{2},y_i+\\frac{k_1}{2})$$\n",
    "\n",
    "$$k_3=hf(x_i+\\frac{h}{2},y_i+\\frac{k_2}{2})$$\n",
    "\n",
    "$$k_4=hf(x_i+h,y_i+k_3)$$\n",
    "\n",
    "$$y_{i+1}=y_i+\\frac{1}{6}(k_1+2k_2+2k_3+k_4)$$\n",
    "\n",
    "$$x_{i+1}=x_i+h, i=0,1,2,...$$\n",
    "\n",
    "$$E=O(h^5)$$"
   ]
  },
  {
   "cell_type": "code",
   "execution_count": 1,
   "metadata": {
    "collapsed": true
   },
   "outputs": [],
   "source": [
    "import numpy as np\n",
    "def euler(f,x,y,h,m):\n",
    "    u=np.zeros([m,2])\n",
    "    for i in range(m):\n",
    "        y=y+h*f(x,y)\n",
    "        x=x+h\n",
    "        u[i,0]=x\n",
    "        u[i,1]=y\n",
    "    return u"
   ]
  },
  {
   "cell_type": "code",
   "execution_count": 11,
   "metadata": {},
   "outputs": [
    {
     "data": {
      "image/png": "[encoded data removed]",
      "text/plain": [
       "<matplotlib.figure.Figure at 0x1dea52a02b0>"
      ]
     },
     "metadata": {},
     "output_type": "display_data"
    }
   ],
   "source": [
    "import pylab as pl\n",
    "#import math\n",
    "#from euler import *\n",
    "def f(x,y):\n",
    "    return y-x**2+x+1\n",
    "u=euler(f,0,1,0.1,20)\n",
    "pl.plot(u[:,0], u[:,1],'or')\n",
    "def y(x):\n",
    "    return np.exp(x)+x**2+x\n",
    "x=pl.arange(0,2.1,0.1)\n",
    "pl.plot(x,y(x),'ob')\n",
    "pl.grid(True)\n",
    "pl.show()"
   ]
  },
  {
   "cell_type": "code",
   "execution_count": null,
   "metadata": {
    "collapsed": true
   },
   "outputs": [],
   "source": []
  }
 ],
 "metadata": {
  "kernelspec": {
   "display_name": "Python 3",
   "language": "python",
   "name": "python3"
  },
  "language_info": {
   "codemirror_mode": {
    "name": "ipython",
    "version": 3
   },
   "file_extension": ".py",
   "mimetype": "text/x-python",
   "name": "python",
   "nbconvert_exporter": "python",
   "pygments_lexer": "ipython3",
   "version": "3.6.3"
  }
 },
 "nbformat": 4,
 "nbformat_minor": 2
}
