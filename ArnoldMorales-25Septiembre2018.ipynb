{
 "cells": [
  {
   "cell_type": "markdown",
   "metadata": {},
   "source": [
    "## Ejemplo: Resolver la ecuación diferencial ordinaria:\n",
    "$$\\frac{dx}{dt}-tx=3t$$"
   ]
  },
  {
   "cell_type": "code",
   "execution_count": 2,
   "metadata": {},
   "outputs": [
    {
     "data": {
      "text/latex": [
       "$$x{\\left (t \\right )} = C_{1} e^{\\frac{t^{2}}{2}} - 3$$"
      ],
      "text/plain": [
       "            2    \n",
       "           t     \n",
       "           ──    \n",
       "           2     \n",
       "x(t) = C₁⋅ℯ   - 3"
      ]
     },
     "execution_count": 2,
     "metadata": {},
     "output_type": "execute_result"
    }
   ],
   "source": [
    "import sympy\n",
    "from sympy import *\n",
    "sympy.init_printing(use_latex='mathjax')\n",
    "\n",
    "t = sympy.Symbol('t')\n",
    "x = sympy.Function('x')\n",
    "eq = 3*t + t*(x(t))\n",
    "\n",
    "sol = sympy.dsolve(x(t).diff(t)-eq)\n",
    "sol"
   ]
  },
  {
   "cell_type": "code",
   "execution_count": 7,
   "metadata": {
    "scrolled": true
   },
   "outputs": [
    {
     "data": {
      "image/png": "[encoded data removed]",
      "text/latex": [
       "$$- \\frac{25 \\cos{\\left (25 \\right )}}{8 \\Gamma{\\left(\\frac{9}{4} \\right)}} \\Gamma{\\left(\\frac{5}{4} \\right)} + \\frac{5 \\sqrt{2} \\sqrt{\\pi} C\\left(\\frac{5 \\sqrt{2}}{\\sqrt{\\pi}}\\right)}{16 \\Gamma{\\left(\\frac{9}{4} \\right)}} \\Gamma{\\left(\\frac{5}{4} \\right)}$$"
      ],
      "text/plain": [
       "                                      ⎛5⋅√2⎞       \n",
       "                      5⋅√2⋅√π⋅fresnelc⎜────⎟⋅Γ(5/4)\n",
       "  25⋅cos(25)⋅Γ(5/4)                   ⎝ √π ⎠       \n",
       "- ───────────────── + ─────────────────────────────\n",
       "       8⋅Γ(9/4)                 16⋅Γ(9/4)          "
      ]
     },
     "execution_count": 7,
     "metadata": {},
     "output_type": "execute_result"
    }
   ],
   "source": [
    "import sympy as sp\n",
    "from sympy import *\n",
    "sp.init_printing()\n",
    "\n",
    "x = Symbol('x')\n",
    "f = x**2*sp.sin(x**2)\n",
    "g = sp.integrate(f, (x,0,5))\n",
    "g\n",
    "#sp.pprint(g)"
   ]
  },
  {
   "cell_type": "code",
   "execution_count": 16,
   "metadata": {},
   "outputs": [
    {
     "data": {
      "text/latex": [
       "$$y{\\left (x \\right )} = \\left(C_{1} + x \\left(x + 1\\right) e^{- x}\\right) e^{x}$$"
      ],
      "text/plain": [
       "       ⎛                -x⎞  x\n",
       "y(x) = ⎝C₁ + x⋅(x + 1)⋅ℯ  ⎠⋅ℯ "
      ]
     },
     "execution_count": 16,
     "metadata": {},
     "output_type": "execute_result"
    }
   ],
   "source": [
    "import sympy \n",
    "from sympy import *\n",
    "sympy.init_printing(use_latex='mathjax')\n",
    "\n",
    "x = sympy.Symbol('x')\n",
    "y = sympy.Function('y')\n",
    "f = y(x)+x-x**2+1\n",
    "\n",
    "g = sympy.dsolve(y(x).diff(x)-f)\n",
    "g\n",
    "        "
   ]
  },
  {
   "cell_type": "markdown",
   "metadata": {},
   "source": [
    "# Método de la serie de Taylor\n",
    "\n",
    "Dada la ecuación diferencial de primer orden con la conidión en el inicio:\n",
    "$$y'(x)=f(x,y),$$ $$y(x_0)=y_0$$"
   ]
  },
  {
   "cell_type": "code",
   "execution_count": 45,
   "metadata": {},
   "outputs": [
    {
     "data": {
      "image/png": "[encoded data removed]",
      "text/plain": [
       "<matplotlib.figure.Figure at 0x1b387ecc630>"
      ]
     },
     "metadata": {},
     "output_type": "display_data"
    }
   ],
   "source": [
    "import matplotlib.pyplot as plt\n",
    "import numpy as np\n",
    "import math\n",
    "\n",
    "def f(x):\n",
    "  fx = np.arange (0,10,0.1)\n",
    "  for i in range (0,len(fx)):\n",
    "      fx[i] = (x[i]**2)+(math.exp(x[i]))+x[i]\n",
    "  return fx\n",
    "\n",
    "x = np.arange (-5.0,5.0,0.1)\n",
    "\n",
    "plt.plot (x, f(x), 'k')\n",
    "#plt.plot([0.1,1,2152],[0.2,1.4614],'ro')\n",
    "plt.show()"
   ]
  },
  {
   "cell_type": "code",
   "execution_count": 35,
   "metadata": {
    "collapsed": true
   },
   "outputs": [],
   "source": [
    "import numpy as np\n",
    "def taylor3(f,df,x,y,h,m):\n",
    "    u=np.zeros([m,2])\n",
    "    for i in range(m):\n",
    "        y=y+h*f(x,y)+h**2/2*df(x,y)\n",
    "        x=x+h\n",
    "        u[i,0]=x\n",
    "        u[i,1]=y\n",
    "    return u"
   ]
  },
  {
   "cell_type": "code",
   "execution_count": 42,
   "metadata": {},
   "outputs": [
    {
     "name": "stdout",
     "output_type": "stream",
     "text": [
      "[[ 0.1         1.215     ]\n",
      " [ 0.2         1.461025  ]\n",
      " [ 0.3         1.73923262]\n",
      " [ 0.4         2.05090205]\n",
      " [ 0.5         2.39744677]]\n"
     ]
    },
    {
     "data": {
      "image/png": "[encoded data removed]",
      "text/plain": [
       "<matplotlib.figure.Figure at 0x1b38772d978>"
      ]
     },
     "metadata": {},
     "output_type": "display_data"
    }
   ],
   "source": [
    "import numpy as np\n",
    "import pylab as pl\n",
    "\n",
    "#np.set_printoptions\n",
    "\n",
    "def f(x,y):\n",
    "    return y-x**2+x+1\n",
    "def df(x,y):\n",
    "    return y-x**2-x+2\n",
    "\n",
    "u=taylor3(f,df,0,1,0.1,5)\n",
    "print (u)\n",
    "x=u[:,0]\n",
    "y=u[:,1]\n",
    "pl.plot(x,y,'o')\n",
    "pl.grid(True)\n",
    "pl.show()"
   ]
  },
  {
   "cell_type": "code",
   "execution_count": 43,
   "metadata": {},
   "outputs": [
    {
     "name": "stdout",
     "output_type": "stream",
     "text": [
      "\n",
      " x= [ 0.   0.1  0.2  0.3  0.4  0.5]\n",
      "\n",
      " y= [[ 1.        ]\n",
      " [ 1.09967618]\n",
      " [ 1.19750056]\n",
      " [ 1.29191662]\n",
      " [ 1.38175001]\n",
      " [ 1.46622838]]\n"
     ]
    }
   ],
   "source": [
    "from numpy import *\n",
    "from scipy.integrate import odeint\n",
    "\n",
    "def f(x,y):\n",
    "    return y-x**2+x+1\n",
    "x=arange(0,0.6,0.1)\n",
    "y=odeint(f,1,x)\n",
    "\n",
    "print ('\\n x=',x)\n",
    "print ('\\n y=',y)"
   ]
  },
  {
   "cell_type": "markdown",
   "metadata": {},
   "source": [
    "Ejemplo: obtener la primera derivada de la funcion:\n",
    "$$y'(x)=f(x,y)=y-x^2+x+1$$"
   ]
  },
  {
   "cell_type": "code",
   "execution_count": null,
   "metadata": {
    "collapsed": true
   },
   "outputs": [],
   "source": [
    "import sympy as np\n",
    "from sympy import*\n",
    "sympy.init_printing()"
   ]
  }
 ],
 "metadata": {
  "kernelspec": {
   "display_name": "Python 3",
   "language": "python",
   "name": "python3"
  },
  "language_info": {
   "codemirror_mode": {
    "name": "ipython",
    "version": 3
   },
   "file_extension": ".py",
   "mimetype": "text/x-python",
   "name": "python",
   "nbconvert_exporter": "python",
   "pygments_lexer": "ipython3",
   "version": "3.6.3"
  }
 },
 "nbformat": 4,
 "nbformat_minor": 2
}
