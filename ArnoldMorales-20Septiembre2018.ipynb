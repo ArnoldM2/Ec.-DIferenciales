{
 "cells": [
  {
   "cell_type": "markdown",
   "metadata": {},
   "source": [
    "# Integradores simples\n",
    "\n",
    "\n",
    "\n",
    "Consideramos un problema de Valores iniciales como el siguiente \n",
    "$$\n",
    "\\begin {equation}\n",
    "\\begin {cases}\n",
    "\\dot {y}(t) & = & f(y,t), \\\\\n",
    "     y(0) & = & y_{0},\n",
    "\\end {cases}\n",
    "\\end {equation}\n",
    "$$\n",
    "\n",
    "donde $y(t)\\equiv y$ es un vector n-dimensional y $y_0$ es el valor incicial.\n",
    "\n",
    "## Integradores simples\n",
    "\n",
    "Discretizamos la coordenada tiempo $t$ como sigue $t_n= t_0 + n\\Delta t$ y definimos $f_n\\equiv f(t_n)$\n",
    "\n",
    "Queremos saber el comportamiento de la ecuación de valores iniciales de arriba para un tiempo $t_n$\n",
    "\n",
    "$\\mathscr{O}(\\Delta t^2)$"
   ]
  },
  {
   "cell_type": "code",
   "execution_count": null,
   "metadata": {
    "collapsed": true
   },
   "outputs": [],
   "source": []
  }
 ],
 "metadata": {
  "kernelspec": {
   "display_name": "Python 3",
   "language": "python",
   "name": "python3"
  },
  "language_info": {
   "codemirror_mode": {
    "name": "ipython",
    "version": 3
   },
   "file_extension": ".py",
   "mimetype": "text/x-python",
   "name": "python",
   "nbconvert_exporter": "python",
   "pygments_lexer": "ipython3",
   "version": "3.6.3"
  }
 },
 "nbformat": 4,
 "nbformat_minor": 2
}
